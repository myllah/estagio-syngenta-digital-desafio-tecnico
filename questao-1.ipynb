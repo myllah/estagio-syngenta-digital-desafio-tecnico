{
 "cells": [
  {
   "cell_type": "markdown",
   "metadata": {},
   "source": [
    "## Count the amount of green pixels\n",
    "## Conte a quantidade de pixels verdes"
   ]
  },
  {
   "cell_type": "markdown",
   "metadata": {},
   "source": [
    "**Answer:** There are **298** green pixels in the image\n",
    "\n",
    "**Resposta:** Existem **298** pixels verdes na imagem"
   ]
  },
  {
   "cell_type": "markdown",
   "metadata": {},
   "source": [
    "# How did I get the answer above? Let's code!"
   ]
  },
  {
   "cell_type": "markdown",
   "metadata": {},
   "source": [
    "## Working with PIL"
   ]
  },
  {
   "cell_type": "code",
   "execution_count": 1,
   "metadata": {},
   "outputs": [
    {
     "name": "stdout",
     "output_type": "stream",
     "text": [
      "List of (count, pixel) used in the image:\n",
      "[(466, (255, 255, 255)), (298, (96, 192, 0)), (125236, (0, 0, 0))]\n",
      "\n",
      "color (96, 192, 0) = green\n",
      "color (0, 0, 0) = black\n",
      "color (255, 255, 255) = white\n",
      "\n",
      "The image has:\n",
      "    * 125236 pixels of the color (0, 0, 0) = black\n",
      "    * 298 pixels of the color (96, 192, 0) = green\n",
      "    * 466 pixels of the color (255, 255, 255) = white\n"
     ]
    }
   ],
   "source": [
    "# Imports\n",
    "from PIL import Image\n",
    "from __future__ import print_function\n",
    "\n",
    "# Open Image\n",
    "img = Image.open(\"Syngenta.bmp\")\n",
    "\n",
    "# Converts the image to RGB\n",
    "img = img.convert(mode='RGB')\n",
    "\n",
    "# Returns a list of colors used in this image. Returns a list of (count, pixel) values.\n",
    "print('List of (count, pixel) used in the image:')\n",
    "print(img.getcolors())\n",
    "\n",
    "print('\\ncolor (96, 192, 0) = green')\n",
    "print('color (0, 0, 0) = black')\n",
    "print('color (255, 255, 255) = white')\n",
    "\n",
    "print('''\\nThe image has:\n",
    "    * 125236 pixels of the color (0, 0, 0) = black\n",
    "    * 298 pixels of the color (96, 192, 0) = green\n",
    "    * 466 pixels of the color (255, 255, 255) = white''')"
   ]
  },
  {
   "cell_type": "markdown",
   "metadata": {},
   "source": [
    "## Working with PIL and numpy"
   ]
  },
  {
   "cell_type": "code",
   "execution_count": 2,
   "metadata": {
    "scrolled": true
   },
   "outputs": [
    {
     "name": "stdout",
     "output_type": "stream",
     "text": [
      "colors used in the image:\n",
      "[[  0   0   0]\n",
      " [ 96 192   0]\n",
      " [255 255 255]]\n",
      "\n",
      "The image has:\n",
      "    *  125236  pixels of the color  [0 0 0]  = black\n",
      "    *  298  pixels of the color  [ 96 192   0]  = green\n",
      "    *  466  pixels of the color  [255 255 255]  = white\n"
     ]
    }
   ],
   "source": [
    "# Imports\n",
    "from PIL import Image\n",
    "from __future__ import print_function\n",
    "import numpy as np\n",
    "\n",
    "# Open Image and converts the image to RGB\n",
    "img = Image.open('Syngenta.bmp').convert('RGB')\n",
    "\n",
    "# Create an numpy array\n",
    "imageArray = np.array(img)\n",
    "\n",
    "# Select the unique colors that appears in the array\n",
    "pixels = np.unique(imageArray.reshape(-1,3), axis=0, return_counts=1)\n",
    "\n",
    "print('colors used in the image:')\n",
    "print(pixels[0])\n",
    "\n",
    "print('''\\nThe image has:\n",
    "    * ''', pixels[1][0], ''' pixels of the color ''', pixels[0][0], ''' = black\n",
    "    * ''', pixels[1][1], ''' pixels of the color ''', pixels[0][1], ''' = green\n",
    "    * ''', pixels[1][2], ''' pixels of the color ''', pixels[0][2], ''' = white''')"
   ]
  },
  {
   "cell_type": "markdown",
   "metadata": {},
   "source": [
    "## Working with cv2 and numpy"
   ]
  },
  {
   "cell_type": "markdown",
   "metadata": {},
   "source": [
    "We can do in two different ways:"
   ]
  },
  {
   "cell_type": "code",
   "execution_count": 3,
   "metadata": {},
   "outputs": [
    {
     "name": "stdout",
     "output_type": "stream",
     "text": [
      "Colors used in the image:\n",
      "[[  0   0   0]\n",
      " [  0 192  96]\n",
      " [255 255 255]]\n",
      "\n",
      "The image has:\n",
      "    *  125236  pixels of the color  [0 0 0]  = black\n",
      "    *  298  pixels of the color  [  0 192  96]  = green\n",
      "    *  466  pixels of the color  [255 255 255]  = white\n"
     ]
    }
   ],
   "source": [
    "## First Way ###\n",
    "\n",
    "# Imports\n",
    "import cv2 as cv\n",
    "import numpy as np\n",
    "\n",
    "# Reading the image\n",
    "img = cv.imread('Syngenta.bmp')\n",
    "\n",
    "# Reshape the array, so it has 3 columns like the BRG\n",
    "img_reshaped = img.reshape(-1, 3)\n",
    "\n",
    "# Select the unique colors that appears in the array\n",
    "unique = np.unique(img_reshaped, axis=0, return_counts=1)\n",
    "\n",
    "print('Colors used in the image:')\n",
    "print(unique[0])\n",
    "\n",
    "print('''\\nThe image has:\n",
    "    * ''', unique[1][0], ''' pixels of the color ''', unique[0][0], ''' = black\n",
    "    * ''', unique[1][1], ''' pixels of the color ''', unique[0][1], ''' = green\n",
    "    * ''', unique[1][2], ''' pixels of the color ''', unique[0][2], ''' = white''')"
   ]
  },
  {
   "cell_type": "code",
   "execution_count": 4,
   "metadata": {},
   "outputs": [
    {
     "name": "stdout",
     "output_type": "stream",
     "text": [
      "There are 298 green pixels\n"
     ]
    }
   ],
   "source": [
    "## Second Way ###\n",
    "\n",
    "# Imports\n",
    "import cv2 as cv\n",
    "import numpy as np\n",
    "\n",
    "# Reading the image\n",
    "img = cv.imread('Syngenta.bmp')\n",
    "\n",
    "# Reshape the array, so it has 3 columns like the BRG\n",
    "img_reshaped = img.reshape(-1, 3)\n",
    "\n",
    "# Select the unique colors that appears in the array\n",
    "unique = np.unique(img_reshaped, axis=0)\n",
    "\n",
    "# Creating a mask: it's going to be TRUE where the value checks out with the BRG column\n",
    "mask = (img_reshaped == [0, 192, 96])\n",
    "\n",
    "# Counting the occurrences of rows that are complete TRUE\n",
    "green_occurrences = np.count_nonzero(mask.all(axis=1))\n",
    "\n",
    "print('There are', green_occurrences, 'green pixels')"
   ]
  },
  {
   "cell_type": "markdown",
   "metadata": {},
   "source": [
    "## Step by step: attemps of counting the green pixels"
   ]
  },
  {
   "cell_type": "code",
   "execution_count": 5,
   "metadata": {},
   "outputs": [],
   "source": [
    "# Imports\n",
    "from PIL import Image\n",
    "from __future__ import print_function\n",
    "import numpy as np\n",
    "import cv2 as cv"
   ]
  },
  {
   "cell_type": "markdown",
   "metadata": {},
   "source": [
    "#### Working with PIL"
   ]
  },
  {
   "cell_type": "code",
   "execution_count": 6,
   "metadata": {},
   "outputs": [
    {
     "data": {
      "image/png": "[encoded data removed]",
      "text/plain": [
       "<PIL.BmpImagePlugin.BmpImageFile image mode=P size=420x300 at 0x7F8943184910>"
      ]
     },
     "execution_count": 6,
     "metadata": {},
     "output_type": "execute_result"
    }
   ],
   "source": [
    "# Open Image\n",
    "img = Image.open(\"Syngenta.bmp\")\n",
    "img"
   ]
  },
  {
   "cell_type": "code",
   "execution_count": 7,
   "metadata": {},
   "outputs": [],
   "source": [
    "img.show()"
   ]
  },
  {
   "cell_type": "code",
   "execution_count": 8,
   "metadata": {},
   "outputs": [
    {
     "name": "stdout",
     "output_type": "stream",
     "text": [
      "BMP\n"
     ]
    }
   ],
   "source": [
    "# Print the file format of the source file.\n",
    "print(img.format)"
   ]
  },
  {
   "cell_type": "code",
   "execution_count": 9,
   "metadata": {},
   "outputs": [
    {
     "name": "stdout",
     "output_type": "stream",
     "text": [
      "P\n"
     ]
    }
   ],
   "source": [
    "# Print the pixel format used by the image.\n",
    "print(img.mode)"
   ]
  },
  {
   "cell_type": "code",
   "execution_count": 10,
   "metadata": {},
   "outputs": [
    {
     "name": "stdout",
     "output_type": "stream",
     "text": [
      "(420, 300)\n"
     ]
    }
   ],
   "source": [
    "# Image size, in pixels. The size is given as a 2-tuple (width, height).\n",
    "print(img.size)"
   ]
  },
  {
   "cell_type": "code",
   "execution_count": 11,
   "metadata": {},
   "outputs": [
    {
     "data": {
      "text/plain": [
       "[(125236, 0), (298, 51), (466, 255)]"
      ]
     },
     "execution_count": 11,
     "metadata": {},
     "output_type": "execute_result"
    }
   ],
   "source": [
    "# Returns a list of colors used in this image. Returns a list of (count, pixel) values.\n",
    "img.getcolors()"
   ]
  },
  {
   "cell_type": "markdown",
   "metadata": {},
   "source": [
    "So now we know that the image has:\n",
    "    * 125236 pixels of the color 0\n",
    "    * 298 pixels of the color 51\n",
    "    * 466 pixels of the color 255\n",
    "    \n",
    "But we don't understand what these color numbers mean, so in the next cell we will convert the image to RGB. This way we will be able to easily see what color is each one."
   ]
  },
  {
   "cell_type": "code",
   "execution_count": 12,
   "metadata": {},
   "outputs": [
    {
     "name": "stdout",
     "output_type": "stream",
     "text": [
      "RGB\n",
      "[(466, (255, 255, 255)), (298, (96, 192, 0)), (125236, (0, 0, 0))]\n"
     ]
    }
   ],
   "source": [
    "img = img.convert(mode='RGB')\n",
    "print(img.mode)\n",
    "print(img.getcolors())"
   ]
  },
  {
   "cell_type": "markdown",
   "metadata": {},
   "source": [
    "To make our life easier, see what each RGB color means:"
   ]
  },
  {
   "cell_type": "code",
   "execution_count": 13,
   "metadata": {},
   "outputs": [
    {
     "data": {
      "image/png": "[encoded data removed]",
      "text/plain": [
       "<PIL.Image.Image image mode=RGB size=40x40 at 0x7F8931EF60D0>"
      ]
     },
     "execution_count": 13,
     "metadata": {},
     "output_type": "execute_result"
    }
   ],
   "source": [
    "# (255, 255, 255) → white\n",
    "Image.new(color=(255,255,255), mode='RGB', size=(40,40))"
   ]
  },
  {
   "cell_type": "code",
   "execution_count": 14,
   "metadata": {},
   "outputs": [
    {
     "data": {
      "image/png": "[encoded data removed]",
      "text/plain": [
       "<PIL.Image.Image image mode=RGB size=40x40 at 0x7F8931EF6350>"
      ]
     },
     "execution_count": 14,
     "metadata": {},
     "output_type": "execute_result"
    }
   ],
   "source": [
    "# (0, 0, 0) → black\n",
    "Image.new(color=(0,0,0), mode='RGB', size=(40,40))"
   ]
  },
  {
   "cell_type": "code",
   "execution_count": 15,
   "metadata": {},
   "outputs": [
    {
     "data": {
      "image/png": "[encoded data removed]",
      "text/plain": [
       "<PIL.Image.Image image mode=RGB size=40x40 at 0x7F8931EF62D0>"
      ]
     },
     "execution_count": 15,
     "metadata": {},
     "output_type": "execute_result"
    }
   ],
   "source": [
    "# (96, 192, 0) → green\n",
    "Image.new(color=(96, 192, 0), mode='RGB', size=(40,40))"
   ]
  },
  {
   "cell_type": "markdown",
   "metadata": {},
   "source": [
    "At this point, we can infer that there is:\n",
    "    * 298 green pixels\n",
    "    * 466 white pixels\n",
    "    * 125236 black pixels\n",
    "\n",
    "But, pretending that we don't know, we can scan the image looking for a specific color:"
   ]
  },
  {
   "cell_type": "code",
   "execution_count": 16,
   "metadata": {},
   "outputs": [
    {
     "name": "stdout",
     "output_type": "stream",
     "text": [
      "There is 298 green pixels\n"
     ]
    }
   ],
   "source": [
    "# Counting pixels\n",
    "count = 0\n",
    "for y in range(img.height):\n",
    "    for x in range(img.width):\n",
    "        pixel = img.getpixel((x, y))\n",
    "        if pixel == (96, 192, 0):\n",
    "            count += 1\n",
    "print('There is', count, 'green pixels')\n"
   ]
  },
  {
   "cell_type": "markdown",
   "metadata": {},
   "source": [
    "#### Working with PIL and numpy"
   ]
  },
  {
   "cell_type": "code",
   "execution_count": 17,
   "metadata": {},
   "outputs": [],
   "source": [
    "# Put the image into an array\n",
    "imageArray = np.array(img)"
   ]
  },
  {
   "cell_type": "code",
   "execution_count": 18,
   "metadata": {},
   "outputs": [],
   "source": [
    "# Reshape array, so it has 3 columns like RGB\n",
    "imageArrayReshaped = imageArray.reshape(-1,3)\n",
    "\n",
    "# Select the unique colors that appears in the array\n",
    "pixels = np.unique(imageArray.reshape(-1,3), axis=0, return_counts=1)"
   ]
  },
  {
   "cell_type": "markdown",
   "metadata": {},
   "source": [
    "We know from the RGB colors table that:"
   ]
  },
  {
   "cell_type": "code",
   "execution_count": 19,
   "metadata": {},
   "outputs": [
    {
     "name": "stdout",
     "output_type": "stream",
     "text": [
      "colors used in the image:\n",
      "[[  0   0   0]\n",
      " [ 96 192   0]\n",
      " [255 255 255]]\n",
      "\n",
      "color [0 0 0] = black\n",
      "color [ 96 192   0] = green\n",
      "color [255 255 255] = white\n"
     ]
    }
   ],
   "source": [
    "print('colors used in the image:')\n",
    "print(pixels[0])\n",
    "\n",
    "print('\\ncolor', pixels[0][0], '= black')\n",
    "print('color', pixels[0][1], '= green')\n",
    "print('color', pixels[0][2], '= white')"
   ]
  },
  {
   "cell_type": "code",
   "execution_count": 20,
   "metadata": {},
   "outputs": [
    {
     "name": "stdout",
     "output_type": "stream",
     "text": [
      "\n",
      "The image has:\n",
      "    *  125236  pixels of the color (0, 0, 0) = black\n",
      "    *  298  pixels of the color (96, 192, 0) = green\n",
      "    *  466  pixels of the color (255, 255, 255) = white\n"
     ]
    }
   ],
   "source": [
    "print('''\\nThe image has:\n",
    "    * ''', pixels[1][0], ''' pixels of the color (0, 0, 0) = black\n",
    "    * ''', pixels[1][1], ''' pixels of the color (96, 192, 0) = green\n",
    "    * ''', pixels[1][2], ''' pixels of the color (255, 255, 255) = white''')"
   ]
  },
  {
   "cell_type": "markdown",
   "metadata": {},
   "source": [
    "#### Working with cv2 and numpy - First way"
   ]
  },
  {
   "cell_type": "code",
   "execution_count": 21,
   "metadata": {},
   "outputs": [
    {
     "data": {
      "text/plain": [
       "array([[[0, 0, 0],\n",
       "        [0, 0, 0],\n",
       "        [0, 0, 0],\n",
       "        ...,\n",
       "        [0, 0, 0],\n",
       "        [0, 0, 0],\n",
       "        [0, 0, 0]],\n",
       "\n",
       "       [[0, 0, 0],\n",
       "        [0, 0, 0],\n",
       "        [0, 0, 0],\n",
       "        ...,\n",
       "        [0, 0, 0],\n",
       "        [0, 0, 0],\n",
       "        [0, 0, 0]],\n",
       "\n",
       "       [[0, 0, 0],\n",
       "        [0, 0, 0],\n",
       "        [0, 0, 0],\n",
       "        ...,\n",
       "        [0, 0, 0],\n",
       "        [0, 0, 0],\n",
       "        [0, 0, 0]],\n",
       "\n",
       "       ...,\n",
       "\n",
       "       [[0, 0, 0],\n",
       "        [0, 0, 0],\n",
       "        [0, 0, 0],\n",
       "        ...,\n",
       "        [0, 0, 0],\n",
       "        [0, 0, 0],\n",
       "        [0, 0, 0]],\n",
       "\n",
       "       [[0, 0, 0],\n",
       "        [0, 0, 0],\n",
       "        [0, 0, 0],\n",
       "        ...,\n",
       "        [0, 0, 0],\n",
       "        [0, 0, 0],\n",
       "        [0, 0, 0]],\n",
       "\n",
       "       [[0, 0, 0],\n",
       "        [0, 0, 0],\n",
       "        [0, 0, 0],\n",
       "        ...,\n",
       "        [0, 0, 0],\n",
       "        [0, 0, 0],\n",
       "        [0, 0, 0]]], dtype=uint8)"
      ]
     },
     "execution_count": 21,
     "metadata": {},
     "output_type": "execute_result"
    }
   ],
   "source": [
    "# Reading the image\n",
    "img = cv.imread('Syngenta.bmp')\n",
    "img"
   ]
  },
  {
   "cell_type": "code",
   "execution_count": 22,
   "metadata": {},
   "outputs": [
    {
     "data": {
      "text/plain": [
       "array([[0, 0, 0],\n",
       "       [0, 0, 0],\n",
       "       [0, 0, 0],\n",
       "       ...,\n",
       "       [0, 0, 0],\n",
       "       [0, 0, 0],\n",
       "       [0, 0, 0]], dtype=uint8)"
      ]
     },
     "execution_count": 22,
     "metadata": {},
     "output_type": "execute_result"
    }
   ],
   "source": [
    "# Reshape the array, so it has 3 columns like the BRG\n",
    "img_reshaped = img.reshape(-1, 3)\n",
    "img_reshaped"
   ]
  },
  {
   "cell_type": "code",
   "execution_count": 23,
   "metadata": {},
   "outputs": [],
   "source": [
    "# Select the unique colors that appears in the array\n",
    "unique = np.unique(img_reshaped, axis=0, return_counts=1)"
   ]
  },
  {
   "cell_type": "code",
   "execution_count": 24,
   "metadata": {},
   "outputs": [
    {
     "name": "stdout",
     "output_type": "stream",
     "text": [
      "Colors used in the image:\n",
      "[[  0   0   0]\n",
      " [  0 192  96]\n",
      " [255 255 255]]\n"
     ]
    }
   ],
   "source": [
    "print('Colors used in the image:')\n",
    "print(unique[0])"
   ]
  },
  {
   "cell_type": "code",
   "execution_count": 25,
   "metadata": {},
   "outputs": [
    {
     "name": "stdout",
     "output_type": "stream",
     "text": [
      "\n",
      "The image has:\n",
      "    *  125236  pixels of the color  [0 0 0]  = black\n",
      "    *  298  pixels of the color  [  0 192  96]  = green\n",
      "    *  466  pixels of the color  [255 255 255]  = white\n"
     ]
    }
   ],
   "source": [
    "print('''\\nThe image has:\n",
    "    * ''', unique[1][0], ''' pixels of the color ''', unique[0][0], ''' = black\n",
    "    * ''', unique[1][1], ''' pixels of the color ''', unique[0][1], ''' = green\n",
    "    * ''', unique[1][2], ''' pixels of the color ''', unique[0][2], ''' = white''')"
   ]
  },
  {
   "cell_type": "markdown",
   "metadata": {},
   "source": [
    "#### Working with cv2 and numpy - Second way"
   ]
  },
  {
   "cell_type": "code",
   "execution_count": 26,
   "metadata": {},
   "outputs": [
    {
     "data": {
      "text/plain": [
       "array([[[0, 0, 0],\n",
       "        [0, 0, 0],\n",
       "        [0, 0, 0],\n",
       "        ...,\n",
       "        [0, 0, 0],\n",
       "        [0, 0, 0],\n",
       "        [0, 0, 0]],\n",
       "\n",
       "       [[0, 0, 0],\n",
       "        [0, 0, 0],\n",
       "        [0, 0, 0],\n",
       "        ...,\n",
       "        [0, 0, 0],\n",
       "        [0, 0, 0],\n",
       "        [0, 0, 0]],\n",
       "\n",
       "       [[0, 0, 0],\n",
       "        [0, 0, 0],\n",
       "        [0, 0, 0],\n",
       "        ...,\n",
       "        [0, 0, 0],\n",
       "        [0, 0, 0],\n",
       "        [0, 0, 0]],\n",
       "\n",
       "       ...,\n",
       "\n",
       "       [[0, 0, 0],\n",
       "        [0, 0, 0],\n",
       "        [0, 0, 0],\n",
       "        ...,\n",
       "        [0, 0, 0],\n",
       "        [0, 0, 0],\n",
       "        [0, 0, 0]],\n",
       "\n",
       "       [[0, 0, 0],\n",
       "        [0, 0, 0],\n",
       "        [0, 0, 0],\n",
       "        ...,\n",
       "        [0, 0, 0],\n",
       "        [0, 0, 0],\n",
       "        [0, 0, 0]],\n",
       "\n",
       "       [[0, 0, 0],\n",
       "        [0, 0, 0],\n",
       "        [0, 0, 0],\n",
       "        ...,\n",
       "        [0, 0, 0],\n",
       "        [0, 0, 0],\n",
       "        [0, 0, 0]]], dtype=uint8)"
      ]
     },
     "execution_count": 26,
     "metadata": {},
     "output_type": "execute_result"
    }
   ],
   "source": [
    "# Reading the image\n",
    "img = cv.imread('Syngenta.bmp')\n",
    "img"
   ]
  },
  {
   "cell_type": "code",
   "execution_count": 27,
   "metadata": {},
   "outputs": [
    {
     "data": {
      "text/plain": [
       "array([[0, 0, 0],\n",
       "       [0, 0, 0],\n",
       "       [0, 0, 0],\n",
       "       ...,\n",
       "       [0, 0, 0],\n",
       "       [0, 0, 0],\n",
       "       [0, 0, 0]], dtype=uint8)"
      ]
     },
     "execution_count": 27,
     "metadata": {},
     "output_type": "execute_result"
    }
   ],
   "source": [
    "# Reshape the array, so it has 3 columns like the BRG\n",
    "img_reshaped = img.reshape(-1, 3)\n",
    "img_reshaped"
   ]
  },
  {
   "cell_type": "code",
   "execution_count": 28,
   "metadata": {},
   "outputs": [
    {
     "name": "stdout",
     "output_type": "stream",
     "text": [
      "Colors used in the image:\n",
      "[[  0   0   0]\n",
      " [  0 192  96]\n",
      " [255 255 255]]\n"
     ]
    }
   ],
   "source": [
    "# Select the unique colors that appears in the array\n",
    "unique = np.unique(img_reshaped, axis=0)\n",
    "\n",
    "print('Colors used in the image:')\n",
    "print(unique)"
   ]
  },
  {
   "cell_type": "code",
   "execution_count": 29,
   "metadata": {},
   "outputs": [
    {
     "data": {
      "text/plain": [
       "array([[ True, False, False],\n",
       "       [ True, False, False],\n",
       "       [ True, False, False],\n",
       "       ...,\n",
       "       [ True, False, False],\n",
       "       [ True, False, False],\n",
       "       [ True, False, False]])"
      ]
     },
     "execution_count": 29,
     "metadata": {},
     "output_type": "execute_result"
    }
   ],
   "source": [
    "# Creating a mask: it's going to be TRUE where the value checks out with the BRG column\n",
    "# If the row in fully TRUE, than it is the green color\n",
    "mask = (img_reshaped == [0, 192, 96])\n",
    "mask"
   ]
  },
  {
   "cell_type": "code",
   "execution_count": 30,
   "metadata": {},
   "outputs": [
    {
     "name": "stdout",
     "output_type": "stream",
     "text": [
      "There are 298 green pixels\n"
     ]
    }
   ],
   "source": [
    "# Counting the occurrences of rows that are complete TRUE\n",
    "green_occurrences = np.count_nonzero(mask.all(axis=1))\n",
    "\n",
    "print('There are', green_occurrences, 'green pixels')"
   ]
  }
 ],
 "metadata": {
  "kernelspec": {
   "display_name": "Python 3",
   "language": "python",
   "name": "python3"
  },
  "language_info": {
   "codemirror_mode": {
    "name": "ipython",
    "version": 2
   },
   "file_extension": ".py",
   "mimetype": "text/x-python",
   "name": "python",
   "nbconvert_exporter": "python",
   "pygments_lexer": "ipython2",
   "version": "2.7.17"
  }
 },
 "nbformat": 4,
 "nbformat_minor": 2
}
