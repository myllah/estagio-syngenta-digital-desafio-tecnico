{
 "cells": [
  {
   "cell_type": "markdown",
   "metadata": {},
   "source": [
    "## A imagem possui uma mensagem escondida, descubra qual a mensagem\n",
    "## The image has a hidden message, find out what is the message"
   ]
  },
  {
   "cell_type": "markdown",
   "metadata": {},
   "source": [
    "**Answer:** Error 404 Not Found. No hidden message was found yet. Some neurons were burned, a teddy bear was drawn by my imagination in the image and the only message found was the string \"Syngenta Digital Hire me\", which is not that hidden.\n",
    "\n",
    "**Resposta:** Error 404 Not Found. Nenhuma mensagem escondida foi encontrada ainda. \n",
    "Alguns neurônios foram queimados, um ursinho de pelúcia foi desenhado pela minha imaginação na imagem e a única mensagem encontrada foi a string \"Syngenta Digital Hire me\", que não está tão escondida assim."
   ]
  },
  {
   "cell_type": "markdown",
   "metadata": {},
   "source": [
    "# How did I get the answer above? Let's code!"
   ]
  },
  {
   "cell_type": "code",
   "execution_count": 1,
   "metadata": {},
   "outputs": [],
   "source": [
    "# Imports\n",
    "from PIL import Image\n",
    "from __future__ import print_function\n",
    "import numpy as np"
   ]
  },
  {
   "cell_type": "markdown",
   "metadata": {},
   "source": [
    "## Other colors"
   ]
  },
  {
   "cell_type": "markdown",
   "metadata": {},
   "source": [
    "At first, I would check if there are any other (than black, white and green) colored pixels, but as we can see below, there are only three colors:"
   ]
  },
  {
   "cell_type": "code",
   "execution_count": 2,
   "metadata": {},
   "outputs": [
    {
     "data": {
      "text/plain": [
       "[(466, (255, 255, 255)), (298, (96, 192, 0)), (125236, (0, 0, 0))]"
      ]
     },
     "execution_count": 2,
     "metadata": {},
     "output_type": "execute_result"
    }
   ],
   "source": [
    "# Open Image\n",
    "img = Image.open(\"Syngenta.bmp\")\n",
    "\n",
    "img.convert(mode='RGB').getcolors()"
   ]
  },
  {
   "cell_type": "markdown",
   "metadata": {},
   "source": [
    "## Transposing the image"
   ]
  },
  {
   "cell_type": "code",
   "execution_count": 3,
   "metadata": {},
   "outputs": [
    {
     "data": {
      "image/png": "[encoded data removed]",
      "text/plain": [
       "<PIL.Image.Image image mode=P size=420x300 at 0x7F21DC04D490>"
      ]
     },
     "execution_count": 3,
     "metadata": {},
     "output_type": "execute_result"
    }
   ],
   "source": [
    "img.transpose(Image.FLIP_LEFT_RIGHT)"
   ]
  },
  {
   "cell_type": "code",
   "execution_count": 4,
   "metadata": {},
   "outputs": [
    {
     "data": {
      "image/png": "[encoded data removed]",
      "text/plain": [
       "<PIL.Image.Image image mode=P size=420x300 at 0x7F21D043C2D0>"
      ]
     },
     "execution_count": 4,
     "metadata": {},
     "output_type": "execute_result"
    }
   ],
   "source": [
    "img.transpose(Image.FLIP_TOP_BOTTOM)"
   ]
  },
  {
   "cell_type": "code",
   "execution_count": 5,
   "metadata": {},
   "outputs": [
    {
     "data": {
      "image/png": "[encoded data removed]",
      "text/plain": [
       "<PIL.Image.Image image mode=P size=300x420 at 0x7F21D043C0D0>"
      ]
     },
     "execution_count": 5,
     "metadata": {},
     "output_type": "execute_result"
    }
   ],
   "source": [
    "img.transpose(Image.ROTATE_90)"
   ]
  },
  {
   "cell_type": "code",
   "execution_count": 6,
   "metadata": {},
   "outputs": [
    {
     "data": {
      "image/png": "[encoded data removed]",
      "text/plain": [
       "<PIL.Image.Image image mode=P size=420x300 at 0x7F21D043C090>"
      ]
     },
     "execution_count": 6,
     "metadata": {},
     "output_type": "execute_result"
    }
   ],
   "source": [
    "img.transpose(Image.ROTATE_180)"
   ]
  },
  {
   "cell_type": "code",
   "execution_count": 7,
   "metadata": {},
   "outputs": [
    {
     "data": {
      "image/png": "[encoded data removed]",
      "text/plain": [
       "<PIL.Image.Image image mode=P size=300x420 at 0x7F21D043C450>"
      ]
     },
     "execution_count": 7,
     "metadata": {},
     "output_type": "execute_result"
    }
   ],
   "source": [
    "img.transpose(Image.ROTATE_270)"
   ]
  },
  {
   "cell_type": "markdown",
   "metadata": {},
   "source": [
    "Using our imagination, in the image above, if we focus on the left side we can see that connecting the dots there is something that looks like a teddy bear. We can see it's eyes and nose and the left arm up, like when we say 'hi'.\n",
    "I think I drank to much coffee and I'm seeing things that aren't there"
   ]
  },
  {
   "cell_type": "code",
   "execution_count": 8,
   "metadata": {},
   "outputs": [
    {
     "data": {
      "image/png": "[encoded data removed]",
      "text/plain": [
       "<PIL.Image.Image image mode=P size=300x420 at 0x7F21DC04D450>"
      ]
     },
     "execution_count": 8,
     "metadata": {},
     "output_type": "execute_result"
    }
   ],
   "source": [
    "img.transpose(Image.TRANSPOSE)"
   ]
  },
  {
   "cell_type": "code",
   "execution_count": 9,
   "metadata": {},
   "outputs": [
    {
     "data": {
      "image/png": "[encoded data removed]",
      "text/plain": [
       "<PIL.Image.Image image mode=P size=300x420 at 0x7F21D043C950>"
      ]
     },
     "execution_count": 9,
     "metadata": {},
     "output_type": "execute_result"
    }
   ],
   "source": [
    "img.transpose(Image.TRANSVERSE)"
   ]
  },
  {
   "cell_type": "markdown",
   "metadata": {},
   "source": [
    "## Removing the string 'Syngenta Digital Hire me' from the middle of the image"
   ]
  },
  {
   "cell_type": "code",
   "execution_count": 10,
   "metadata": {},
   "outputs": [
    {
     "data": {
      "image/png": "[encoded data removed]",
      "text/plain": [
       "<PIL.Image.Image image mode=RGB size=420x300 at 0x7F21D0450350>"
      ]
     },
     "execution_count": 10,
     "metadata": {},
     "output_type": "execute_result"
    }
   ],
   "source": [
    "img = Image.open('Syngenta.bmp').convert('RGB')\n",
    "for y in range(img.height):\n",
    "    for x in range(img.width):\n",
    "        if img.getpixel((x, y)) == (255, 255, 255):\n",
    "            img.putpixel((x, y), (0,0,0))\n",
    "img"
   ]
  },
  {
   "cell_type": "markdown",
   "metadata": {},
   "source": [
    "## Steganography"
   ]
  },
  {
   "cell_type": "markdown",
   "metadata": {},
   "source": [
    "Steganography is the practice of concealing a file, message, image, or video within another file, message, image, or video in a way that someone don't realize the presence of the hidden message. We can validate if there is a hidden message though pixels values. However we just have three and very distinct colors, so we can affirm that *steganography was not used in the picture*."
   ]
  },
  {
   "cell_type": "code",
   "execution_count": 11,
   "metadata": {},
   "outputs": [
    {
     "data": {
      "text/plain": [
       "[(466, (255, 255, 255)), (298, (96, 192, 0)), (125236, (0, 0, 0))]"
      ]
     },
     "execution_count": 11,
     "metadata": {},
     "output_type": "execute_result"
    }
   ],
   "source": [
    "img = Image.open(\"Syngenta.bmp\")\n",
    "img.convert(mode='RGB').getcolors()"
   ]
  },
  {
   "cell_type": "markdown",
   "metadata": {},
   "source": [
    "See below an **example of the use of steganography**. In this case I'm hiding the message **'This is a message from Mylena: Please hire me'**"
   ]
  },
  {
   "cell_type": "code",
   "execution_count": 12,
   "metadata": {},
   "outputs": [],
   "source": [
    "# Import\n",
    "from steganography.steganography import Steganography"
   ]
  },
  {
   "cell_type": "code",
   "execution_count": 13,
   "metadata": {},
   "outputs": [],
   "source": [
    "# Concealing the message in the picture Syngenta.bmp and saving as Syngenta2.bmp\n",
    "Steganography.encode(encode_text=\"\"\"This is a message from Mylena. Please hire me\"\"\", input_image_path=\"Syngenta.bmp\", output_image_path=\"Syngenta2.bmp\")"
   ]
  },
  {
   "cell_type": "code",
   "execution_count": 14,
   "metadata": {},
   "outputs": [
    {
     "data": {
      "image/png": "[encoded data removed]",
      "text/plain": [
       "<PIL.PngImagePlugin.PngImageFile image mode=RGB size=420x300 at 0x7F21DC044F50>"
      ]
     },
     "execution_count": 14,
     "metadata": {},
     "output_type": "execute_result"
    }
   ],
   "source": [
    "# Open the image Sysngenta2.bmp\n",
    "img2 = Image.open(fp=\"Syngenta2.bmp\")\n",
    "img2"
   ]
  },
  {
   "cell_type": "code",
   "execution_count": 15,
   "metadata": {},
   "outputs": [
    {
     "name": "stdout",
     "output_type": "stream",
     "text": [
      "The hidden message is =  This is a message from Mylena. Please hire me \n"
     ]
    }
   ],
   "source": [
    "# Discovering the hiding\n",
    "hidden = Steganography.decode(image_path=\"Syngenta2.bmp\")\n",
    "print('The hidden message is = ', hidden, '')"
   ]
  },
  {
   "cell_type": "code",
   "execution_count": 16,
   "metadata": {},
   "outputs": [
    {
     "data": {
      "text/plain": [
       "[(466, (255, 255, 255)),\n",
       " (90, (1, 1, 1)),\n",
       " (298, (96, 192, 0)),\n",
       " (125146, (0, 0, 0))]"
      ]
     },
     "execution_count": 16,
     "metadata": {},
     "output_type": "execute_result"
    }
   ],
   "source": [
    "# We can notice that Syngenta2.bmp has 1 more color than Syngenta.bmp\n",
    "img2.convert(mode='RGB').getcolors()"
   ]
  },
  {
   "cell_type": "markdown",
   "metadata": {},
   "source": [
    "# Occurrences of each color in rows and columns"
   ]
  },
  {
   "cell_type": "markdown",
   "metadata": {},
   "source": [
    "*No message was found.*\n",
    "I had a thought that maybe the occurrences of the colors in the rows or columns could mean something, but I couldn't see any pattern.\n",
    "For some reason, every column of the image has exacly one green pixel, except the columns 0 and 15, that doen't have any green pixels. I've spoken with my mother about it and she theorises that we are start a fase of live in the age of 0, and start a new fase of life in the age of 15, buy the debutant party."
   ]
  },
  {
   "cell_type": "code",
   "execution_count": 17,
   "metadata": {},
   "outputs": [
    {
     "name": "stdout",
     "output_type": "stream",
     "text": [
      "Array created:\n"
     ]
    },
    {
     "data": {
      "text/plain": [
       "array([[0, 0, 0, ..., 0, 0, 0],\n",
       "       [0, 0, 0, ..., 0, 0, 0],\n",
       "       [0, 0, 0, ..., 0, 0, 0],\n",
       "       ...,\n",
       "       [0, 0, 0, ..., 0, 0, 0],\n",
       "       [0, 0, 0, ..., 0, 0, 0],\n",
       "       [0, 0, 0, ..., 0, 0, 0]], dtype=uint8)"
      ]
     },
     "execution_count": 17,
     "metadata": {},
     "output_type": "execute_result"
    }
   ],
   "source": [
    "# Open Image and converts the image to RGB\n",
    "img = Image.open('Syngenta.bmp')\n",
    "\n",
    "# Create an numpy array\n",
    "arrayImage = np.array(img)\n",
    "\n",
    "print(\"Array created:\")\n",
    "arrayImage"
   ]
  },
  {
   "cell_type": "code",
   "execution_count": 18,
   "metadata": {},
   "outputs": [
    {
     "data": {
      "text/plain": [
       "array([0, 0, 0, 0, 0, 0, 0, 0, 0, 0, 0, 0, 0, 0, 0, 0, 0, 0, 0, 0, 0, 0,\n",
       "       0, 0, 0, 0, 0, 0, 0, 0, 0, 0, 0, 0, 0, 0, 0, 0, 0, 0, 0, 0, 0, 0,\n",
       "       0, 0, 0, 0, 0, 0, 0, 0, 0, 0, 0, 0, 0, 0, 0, 0, 0, 0, 0, 0, 0, 0,\n",
       "       0, 0, 0, 0, 0, 0, 0, 0, 0, 0, 0, 0, 0, 0, 0, 0, 0, 0, 0, 0, 0, 0,\n",
       "       0, 0, 0, 0, 0, 0, 0, 0, 0, 0, 0, 0, 0, 0, 0, 0, 0, 0, 0, 0, 0, 0,\n",
       "       0, 0, 0, 0, 0, 0, 0, 0, 0, 0, 0, 0, 0, 0, 0, 0, 0, 0, 0, 0, 0, 0,\n",
       "       0, 0, 0, 0, 0, 0, 0, 0, 0, 0, 0, 0, 0, 0, 0, 0, 0, 0, 0, 0, 0, 0,\n",
       "       0, 0, 0, 0, 0, 0, 0, 0, 0, 0, 0, 0, 0, 0, 0, 0, 0, 0, 0, 0, 0, 0,\n",
       "       0, 0, 0, 0, 0, 0, 0, 0, 0, 0, 0, 0, 0, 0, 0, 0, 0, 0, 0, 0, 0, 0,\n",
       "       0, 0, 0, 0, 0, 0, 0, 0, 0, 0, 0, 0, 0, 0, 0, 0, 0, 0, 0, 0, 0, 0,\n",
       "       0, 0, 0, 0, 0, 0, 0, 0, 0, 0, 0, 0, 0, 0, 0, 0, 0, 0, 0, 0, 0, 0,\n",
       "       0, 0, 0, 0, 0, 0, 0, 0, 0, 0, 0, 0, 0, 0, 0, 0, 0, 0, 0, 0, 0, 0,\n",
       "       0, 0, 0, 0, 0, 0, 0, 0, 0, 0, 0, 0, 0, 0, 0, 0, 0, 0, 0, 0, 0, 0,\n",
       "       0, 0, 0, 0, 0, 0, 0, 0, 0, 0, 0, 0, 0, 0, 0, 0, 0, 0, 0, 0, 0, 0,\n",
       "       0, 0, 0, 0, 0, 0, 0, 0, 0, 0, 0, 0, 0, 0, 0, 0, 0, 0, 0, 0, 0, 0,\n",
       "       0, 0, 0, 0, 0, 0, 0, 0, 0, 0, 0, 0, 0, 0, 0, 0, 0, 0, 0, 0, 0, 0,\n",
       "       0, 0, 0, 0, 0, 0, 0, 0, 0, 0, 0, 0, 0, 0, 0, 0, 0, 0, 0, 0, 0, 0,\n",
       "       0, 0, 0, 0, 0, 0, 0, 0, 0, 0, 0, 0, 0, 0, 0, 0, 0, 0, 0, 0, 0, 0,\n",
       "       0, 0, 0, 0, 0, 0, 0, 0, 0, 0, 0, 0, 0, 0, 0, 0, 0, 0, 0, 0, 0, 0,\n",
       "       0, 0], dtype=uint8)"
      ]
     },
     "execution_count": 18,
     "metadata": {},
     "output_type": "execute_result"
    }
   ],
   "source": [
    "# arrayImage's first row\n",
    "arrayImage[0]"
   ]
  },
  {
   "cell_type": "code",
   "execution_count": 19,
   "metadata": {},
   "outputs": [
    {
     "name": "stdout",
     "output_type": "stream",
     "text": [
      "\n",
      "Values that appears in the array:\n",
      "    *  [0]  appears  125236  times\n",
      "    *  [51]  appears  298  times\n",
      "    *  [255]  appears  466  times\n"
     ]
    }
   ],
   "source": [
    "# Select the unique values that appears in the array\n",
    "unique = np.unique(arrayImage.reshape(-1,1), axis=0, return_counts=1)\n",
    "\n",
    "print('''\\nValues that appears in the array:\n",
    "    * ''', unique[0][0], ''' appears ''', unique[1][0], ''' times\n",
    "    * ''', unique[0][1], ''' appears ''', unique[1][1], ''' times\n",
    "    * ''', unique[0][2], ''' appears ''', unique[1][2], ''' times''')"
   ]
  },
  {
   "cell_type": "code",
   "execution_count": 20,
   "metadata": {},
   "outputs": [],
   "source": [
    "rows, columns = arrayImage.shape\n",
    "# So the array has 300 lines and 420 columns"
   ]
  },
  {
   "cell_type": "code",
   "execution_count": 21,
   "metadata": {},
   "outputs": [
    {
     "data": {
      "image/png": "[encoded data removed]",
      "text/plain": [
       "<PIL.BmpImagePlugin.BmpImageFile image mode=P size=420x300 at 0x7F21D0450D10>"
      ]
     },
     "execution_count": 21,
     "metadata": {},
     "output_type": "execute_result"
    }
   ],
   "source": [
    "img"
   ]
  },
  {
   "cell_type": "markdown",
   "metadata": {},
   "source": [
    "Discovering how many non_black values the image has per row and per column"
   ]
  },
  {
   "cell_type": "code",
   "execution_count": 22,
   "metadata": {},
   "outputs": [
    {
     "data": {
      "text/plain": [
       "array([ 4,  0,  0,  0,  0,  0,  0,  0,  1,  0,  0,  0,  0,  3,  0,  0,  0,\n",
       "        6,  0,  0,  0,  0,  1,  0,  0,  0,  2,  0,  0,  0,  5,  0,  0,  0,\n",
       "        0,  1,  0,  0,  0,  2,  0,  0,  0,  0,  2,  0,  0,  0,  4,  0,  0,\n",
       "        0,  0,  1,  0,  0,  0,  5,  0,  0,  0,  6,  0,  0,  0,  0,  1,  0,\n",
       "        0,  0,  4,  0,  0,  0,  0,  7,  0,  0,  0,  5,  0,  0,  0,  0, 10,\n",
       "        0,  0,  0,  3,  0,  0,  0,  3,  0,  0,  0,  0,  2,  0,  0,  0,  3,\n",
       "        0,  0,  0,  0,  5,  0,  0,  0,  2,  0,  0,  0,  3,  0,  0,  0,  0,\n",
       "        1,  0,  0,  0,  3,  0,  0,  0,  0,  2,  0,  0,  0,  2,  0,  0,  0,\n",
       "        0,  2,  0,  0,  0,  3,  0,  0,  0,  4,  0,  0,  0,  0,  3,  4,  3,\n",
       "        3,  8,  3,  3,  3,  3,  4,  0,  0,  4,  5,  3,  2,  3,  3,  4,  0,\n",
       "        0,  9,  6,  1,  1,  1,  4,  8,  0,  0,  6, 17,  4,  4,  4,  7, 11,\n",
       "        1,  1, 17,  4,  3, 13,  3,  6,  4,  9,  1, 13,  2,  2,  1,  6,  5,\n",
       "       11,  3,  4, 18,  6,  2,  0,  4,  6,  3,  3,  3, 14,  9,  1,  1,  1,\n",
       "       12,  1,  1,  1, 15, 10,  2,  2, 15,  5,  5,  5,  5, 13,  4,  0, 10,\n",
       "        1,  0,  0,  6,  3,  6,  3,  3,  3, 12,  0,  0, 10,  0,  2,  1, 12,\n",
       "        2,  7,  0,  4,  3,  5,  3,  3,  3,  8,  0,  0, 12,  0,  3,  0,  0,\n",
       "        0,  0,  2,  0,  0,  0,  8,  0,  0,  0,  4,  0,  0,  0,  0,  9,  0,\n",
       "        0,  0,  2,  0,  0,  0,  0,  1,  0,  0,  0,  1,  0,  0,  0,  0,  5,\n",
       "        0,  0,  0,  2,  0,  0,  0,  7,  0,  0,  0,  0,  4,  0,  0,  0,  1,\n",
       "        0,  0,  0,  0,  0,  0,  0,  0,  2,  0,  0,  0,  0,  4,  0,  0,  0,\n",
       "        3,  0,  0,  0,  8,  0,  0,  0,  0,  3,  0,  0,  0,  4,  0,  0,  0,\n",
       "        0,  3,  0,  0,  0,  2,  0,  0,  0,  5,  0,  0,  0,  0,  8,  0,  0,\n",
       "        0,  3,  0,  0,  0,  0,  2,  0,  0,  0,  4,  0,  0,  0,  0,  2,  0,\n",
       "        0,  0,  2,  0,  0,  0,  2,  0,  0,  0,  0,  4,  0,  0,  0,  2,  0,\n",
       "        0,  0,  0,  2,  0,  0,  0,  0,  0,  0,  0,  0])"
      ]
     },
     "execution_count": 22,
     "metadata": {},
     "output_type": "execute_result"
    }
   ],
   "source": [
    "# non black values per row\n",
    "np.count_nonzero(a=arrayImage, axis=0)"
   ]
  },
  {
   "cell_type": "code",
   "execution_count": 23,
   "metadata": {},
   "outputs": [
    {
     "data": {
      "text/plain": [
       "array([ 0,  1,  1,  1,  1,  1,  1,  1,  1,  1,  1,  1,  1,  1,  1,  0,  1,\n",
       "        1,  1,  1,  1,  1,  1,  1,  1,  1,  1,  1,  1,  1,  1,  1,  1,  1,\n",
       "        1,  1,  1,  1,  1,  1,  1,  1,  1,  1,  1,  1,  1,  1,  1,  1,  1,\n",
       "        1,  1,  1,  1,  1,  1,  1,  1,  1,  1,  1,  1,  1,  1,  1,  1,  1,\n",
       "        1,  1,  1,  1,  1,  1,  1,  1,  1,  1,  1,  1,  1,  1,  1,  1,  1,\n",
       "        1,  1,  1,  1,  1,  1,  1,  1,  1,  1,  1,  1,  1,  1,  1,  1,  1,\n",
       "        1,  1,  1,  1,  1,  1,  1,  1,  1,  1,  1,  1,  1,  1,  1,  1,  1,\n",
       "        1,  1,  1,  1, 18,  8,  8, 46, 28, 27, 28, 34, 26, 26, 29, 47,  4,\n",
       "        6, 11,  1,  1,  1,  1,  4,  3,  3, 21, 15, 19, 12, 22, 10, 12, 12,\n",
       "       14,  1,  1,  1,  1,  1,  1,  1,  1,  1,  1,  1,  1,  1,  1,  1,  1,\n",
       "        1,  1,  1,  1,  1,  1,  1,  1,  1,  1,  1,  1,  1,  1,  1,  1,  1,\n",
       "        1,  1,  1,  1,  1,  1,  1,  1,  1,  1,  1,  1,  1,  1,  1,  1,  1,\n",
       "        1,  1,  1,  1,  1,  1,  1,  1,  1,  1,  1,  1,  1,  1,  1,  1,  1,\n",
       "        1,  1,  1,  1,  1,  1,  1,  1,  1,  1,  1,  1,  1,  1,  1,  1,  1,\n",
       "        1,  1,  1,  1,  1,  1,  1,  1,  1,  1,  1,  1,  1,  1,  1,  1,  1,\n",
       "        1,  1,  1,  1,  1,  1,  1,  1,  1,  1,  1,  1,  1,  1,  1,  1,  1,\n",
       "        1,  1,  1,  1,  1,  1,  1,  1,  1,  1,  1,  1,  1,  1,  1,  1,  1,\n",
       "        1,  1,  1,  1,  1,  1,  1,  1,  1,  1,  1])"
      ]
     },
     "execution_count": 23,
     "metadata": {},
     "output_type": "execute_result"
    }
   ],
   "source": [
    "# non black values per column\n",
    "np.count_nonzero(arrayImage, axis=1)"
   ]
  },
  {
   "cell_type": "markdown",
   "metadata": {},
   "source": [
    "Discovering how many green values the image has per row and per column"
   ]
  },
  {
   "cell_type": "code",
   "execution_count": 24,
   "metadata": {},
   "outputs": [
    {
     "data": {
      "text/plain": [
       "array([0, 1, 1, 1, 1, 1, 1, 1, 1, 1, 1, 1, 1, 1, 1, 0, 1, 1, 1, 1, 1, 1,\n",
       "       1, 1, 1, 1, 1, 1, 1, 1, 1, 1, 1, 1, 1, 1, 1, 1, 1, 1, 1, 1, 1, 1,\n",
       "       1, 1, 1, 1, 1, 1, 1, 1, 1, 1, 1, 1, 1, 1, 1, 1, 1, 1, 1, 1, 1, 1,\n",
       "       1, 1, 1, 1, 1, 1, 1, 1, 1, 1, 1, 1, 1, 1, 1, 1, 1, 1, 1, 1, 1, 1,\n",
       "       1, 1, 1, 1, 1, 1, 1, 1, 1, 1, 1, 1, 1, 1, 1, 1, 1, 1, 1, 1, 1, 1,\n",
       "       1, 1, 1, 1, 1, 1, 1, 1, 1, 1, 1, 1, 1, 1, 1, 1, 1, 1, 1, 1, 1, 1,\n",
       "       1, 1, 1, 1, 1, 1, 1, 1, 1, 1, 1, 1, 1, 1, 1, 1, 1, 1, 1, 1, 1, 1,\n",
       "       1, 1, 1, 1, 1, 1, 1, 1, 1, 1, 1, 1, 1, 1, 1, 1, 1, 1, 1, 1, 1, 1,\n",
       "       1, 1, 1, 1, 1, 1, 1, 1, 1, 1, 1, 1, 1, 1, 1, 1, 1, 1, 1, 1, 1, 1,\n",
       "       1, 1, 1, 1, 1, 1, 1, 1, 1, 1, 1, 1, 1, 1, 1, 1, 1, 1, 1, 1, 1, 1,\n",
       "       1, 1, 1, 1, 1, 1, 1, 1, 1, 1, 1, 1, 1, 1, 1, 1, 1, 1, 1, 1, 1, 1,\n",
       "       1, 1, 1, 1, 1, 1, 1, 1, 1, 1, 1, 1, 1, 1, 1, 1, 1, 1, 1, 1, 1, 1,\n",
       "       1, 1, 1, 1, 1, 1, 1, 1, 1, 1, 1, 1, 1, 1, 1, 1, 1, 1, 1, 1, 1, 1,\n",
       "       1, 1, 1, 1, 1, 1, 1, 1, 1, 1, 1, 1, 1, 1])"
      ]
     },
     "execution_count": 24,
     "metadata": {},
     "output_type": "execute_result"
    }
   ],
   "source": [
    "# green values per column\n",
    "(arrayImage == 51).sum(axis=1)\n",
    "\n",
    "#only the 0º and 15º column doesn't have a green pixel"
   ]
  },
  {
   "cell_type": "code",
   "execution_count": 25,
   "metadata": {},
   "outputs": [
    {
     "data": {
      "text/plain": [
       "array([ 4,  0,  0,  0,  0,  0,  0,  0,  1,  0,  0,  0,  0,  3,  0,  0,  0,\n",
       "        6,  0,  0,  0,  0,  1,  0,  0,  0,  2,  0,  0,  0,  5,  0,  0,  0,\n",
       "        0,  1,  0,  0,  0,  2,  0,  0,  0,  0,  2,  0,  0,  0,  4,  0,  0,\n",
       "        0,  0,  1,  0,  0,  0,  5,  0,  0,  0,  6,  0,  0,  0,  0,  1,  0,\n",
       "        0,  0,  4,  0,  0,  0,  0,  7,  0,  0,  0,  5,  0,  0,  0,  0, 10,\n",
       "        0,  0,  0,  3,  0,  0,  0,  3,  0,  0,  0,  0,  2,  0,  0,  0,  3,\n",
       "        0,  0,  0,  0,  5,  0,  0,  0,  2,  0,  0,  0,  3,  0,  0,  0,  0,\n",
       "        1,  0,  0,  0,  3,  0,  0,  0,  0,  2,  0,  0,  0,  2,  0,  0,  0,\n",
       "        0,  2,  0,  0,  0,  3,  0,  0,  0,  4,  0,  0,  0,  0,  3,  0,  0,\n",
       "        0,  6,  0,  0,  0,  0,  0,  0,  0,  0,  1,  0,  0,  0,  0,  2,  0,\n",
       "        0,  0,  5,  0,  0,  0,  3,  0,  0,  0,  0,  2,  0,  0,  0,  3,  0,\n",
       "        0,  0,  0,  1,  0,  0,  0,  3,  0,  0,  0,  3,  0,  0,  0,  0,  1,\n",
       "        0,  0,  0,  3,  0,  0,  0,  0,  3,  0,  0,  0,  3,  0,  0,  0,  0,\n",
       "        4,  0,  0,  0,  3,  0,  0,  0,  8,  0,  0,  0,  0,  4,  0,  0,  0,\n",
       "        1,  0,  0,  0,  0,  3,  0,  0,  0,  2,  0,  0,  0,  0,  2,  0,  0,\n",
       "        0,  5,  0,  0,  0,  2,  0,  0,  0,  0,  0,  0,  0,  0,  3,  0,  0,\n",
       "        0,  0,  2,  0,  0,  0,  8,  0,  0,  0,  4,  0,  0,  0,  0,  9,  0,\n",
       "        0,  0,  2,  0,  0,  0,  0,  1,  0,  0,  0,  1,  0,  0,  0,  0,  5,\n",
       "        0,  0,  0,  2,  0,  0,  0,  7,  0,  0,  0,  0,  4,  0,  0,  0,  1,\n",
       "        0,  0,  0,  0,  0,  0,  0,  0,  2,  0,  0,  0,  0,  4,  0,  0,  0,\n",
       "        3,  0,  0,  0,  8,  0,  0,  0,  0,  3,  0,  0,  0,  4,  0,  0,  0,\n",
       "        0,  3,  0,  0,  0,  2,  0,  0,  0,  5,  0,  0,  0,  0,  8,  0,  0,\n",
       "        0,  3,  0,  0,  0,  0,  2,  0,  0,  0,  4,  0,  0,  0,  0,  2,  0,\n",
       "        0,  0,  2,  0,  0,  0,  2,  0,  0,  0,  0,  4,  0,  0,  0,  2,  0,\n",
       "        0,  0,  0,  2,  0,  0,  0,  0,  0,  0,  0,  0])"
      ]
     },
     "execution_count": 25,
     "metadata": {},
     "output_type": "execute_result"
    }
   ],
   "source": [
    "# green values per row\n",
    "green_row = (arrayImage == 51).sum(axis=0)\n",
    "green_row\n",
    "# We can notice that usually there is 3, 4 or 7 pixels between the green pixels"
   ]
  },
  {
   "cell_type": "markdown",
   "metadata": {},
   "source": [
    "Discovering how many white values the image has per row and per column"
   ]
  },
  {
   "cell_type": "code",
   "execution_count": 26,
   "metadata": {},
   "outputs": [
    {
     "data": {
      "text/plain": [
       "array([ 0,  0,  0,  0,  0,  0,  0,  0,  0,  0,  0,  0,  0,  0,  0,  0,  0,\n",
       "        0,  0,  0,  0,  0,  0,  0,  0,  0,  0,  0,  0,  0,  0,  0,  0,  0,\n",
       "        0,  0,  0,  0,  0,  0,  0,  0,  0,  0,  0,  0,  0,  0,  0,  0,  0,\n",
       "        0,  0,  0,  0,  0,  0,  0,  0,  0,  0,  0,  0,  0,  0,  0,  0,  0,\n",
       "        0,  0,  0,  0,  0,  0,  0,  0,  0,  0,  0,  0,  0,  0,  0,  0,  0,\n",
       "        0,  0,  0,  0,  0,  0,  0,  0,  0,  0,  0,  0,  0,  0,  0,  0,  0,\n",
       "        0,  0,  0,  0,  0,  0,  0,  0,  0,  0,  0,  0,  0,  0,  0,  0,  0,\n",
       "        0,  0,  0,  0,  0,  0,  0,  0,  0,  0,  0,  0,  0,  0,  0,  0,  0,\n",
       "        0,  0,  0,  0,  0,  0,  0,  0,  0,  0,  0,  0,  0,  0,  0,  4,  3,\n",
       "        3,  2,  3,  3,  3,  3,  4,  0,  0,  4,  4,  3,  2,  3,  3,  2,  0,\n",
       "        0,  9,  1,  1,  1,  1,  1,  8,  0,  0,  6, 15,  4,  4,  4,  4, 11,\n",
       "        1,  1, 17,  3,  3, 13,  3,  3,  4,  9,  1, 10,  2,  2,  1,  6,  4,\n",
       "       11,  3,  4, 15,  6,  2,  0,  4,  3,  3,  3,  3, 11,  9,  1,  1,  1,\n",
       "        8,  1,  1,  1, 12, 10,  2,  2,  7,  5,  5,  5,  5,  9,  4,  0, 10,\n",
       "        0,  0,  0,  6,  3,  3,  3,  3,  3, 10,  0,  0, 10,  0,  0,  1, 12,\n",
       "        2,  2,  0,  4,  3,  3,  3,  3,  3,  8,  0,  0, 12,  0,  0,  0,  0,\n",
       "        0,  0,  0,  0,  0,  0,  0,  0,  0,  0,  0,  0,  0,  0,  0,  0,  0,\n",
       "        0,  0,  0,  0,  0,  0,  0,  0,  0,  0,  0,  0,  0,  0,  0,  0,  0,\n",
       "        0,  0,  0,  0,  0,  0,  0,  0,  0,  0,  0,  0,  0,  0,  0,  0,  0,\n",
       "        0,  0,  0,  0,  0,  0,  0,  0,  0,  0,  0,  0,  0,  0,  0,  0,  0,\n",
       "        0,  0,  0,  0,  0,  0,  0,  0,  0,  0,  0,  0,  0,  0,  0,  0,  0,\n",
       "        0,  0,  0,  0,  0,  0,  0,  0,  0,  0,  0,  0,  0,  0,  0,  0,  0,\n",
       "        0,  0,  0,  0,  0,  0,  0,  0,  0,  0,  0,  0,  0,  0,  0,  0,  0,\n",
       "        0,  0,  0,  0,  0,  0,  0,  0,  0,  0,  0,  0,  0,  0,  0,  0,  0,\n",
       "        0,  0,  0,  0,  0,  0,  0,  0,  0,  0,  0,  0])"
      ]
     },
     "execution_count": 26,
     "metadata": {},
     "output_type": "execute_result"
    }
   ],
   "source": [
    "# white values per row\n",
    "(arrayImage == 255).sum(axis=0)"
   ]
  },
  {
   "cell_type": "code",
   "execution_count": 27,
   "metadata": {},
   "outputs": [
    {
     "data": {
      "text/plain": [
       "array([ 0,  0,  0,  0,  0,  0,  0,  0,  0,  0,  0,  0,  0,  0,  0,  0,  0,\n",
       "        0,  0,  0,  0,  0,  0,  0,  0,  0,  0,  0,  0,  0,  0,  0,  0,  0,\n",
       "        0,  0,  0,  0,  0,  0,  0,  0,  0,  0,  0,  0,  0,  0,  0,  0,  0,\n",
       "        0,  0,  0,  0,  0,  0,  0,  0,  0,  0,  0,  0,  0,  0,  0,  0,  0,\n",
       "        0,  0,  0,  0,  0,  0,  0,  0,  0,  0,  0,  0,  0,  0,  0,  0,  0,\n",
       "        0,  0,  0,  0,  0,  0,  0,  0,  0,  0,  0,  0,  0,  0,  0,  0,  0,\n",
       "        0,  0,  0,  0,  0,  0,  0,  0,  0,  0,  0,  0,  0,  0,  0,  0,  0,\n",
       "        0,  0,  0,  0, 17,  7,  7, 45, 27, 26, 27, 33, 25, 25, 28, 46,  3,\n",
       "        5, 10,  0,  0,  0,  0,  3,  2,  2, 20, 14, 18, 11, 21,  9, 11, 11,\n",
       "       13,  0,  0,  0,  0,  0,  0,  0,  0,  0,  0,  0,  0,  0,  0,  0,  0,\n",
       "        0,  0,  0,  0,  0,  0,  0,  0,  0,  0,  0,  0,  0,  0,  0,  0,  0,\n",
       "        0,  0,  0,  0,  0,  0,  0,  0,  0,  0,  0,  0,  0,  0,  0,  0,  0,\n",
       "        0,  0,  0,  0,  0,  0,  0,  0,  0,  0,  0,  0,  0,  0,  0,  0,  0,\n",
       "        0,  0,  0,  0,  0,  0,  0,  0,  0,  0,  0,  0,  0,  0,  0,  0,  0,\n",
       "        0,  0,  0,  0,  0,  0,  0,  0,  0,  0,  0,  0,  0,  0,  0,  0,  0,\n",
       "        0,  0,  0,  0,  0,  0,  0,  0,  0,  0,  0,  0,  0,  0,  0,  0,  0,\n",
       "        0,  0,  0,  0,  0,  0,  0,  0,  0,  0,  0,  0,  0,  0,  0,  0,  0,\n",
       "        0,  0,  0,  0,  0,  0,  0,  0,  0,  0,  0])"
      ]
     },
     "execution_count": 27,
     "metadata": {},
     "output_type": "execute_result"
    }
   ],
   "source": [
    "# white values per column\n",
    "(arrayImage == 255).sum(axis=1)"
   ]
  },
  {
   "cell_type": "markdown",
   "metadata": {},
   "source": [
    "Discovering how many black values the image has per row and per column"
   ]
  },
  {
   "cell_type": "code",
   "execution_count": 28,
   "metadata": {},
   "outputs": [
    {
     "data": {
      "text/plain": [
       "array([296, 300, 300, 300, 300, 300, 300, 300, 299, 300, 300, 300, 300,\n",
       "       297, 300, 300, 300, 294, 300, 300, 300, 300, 299, 300, 300, 300,\n",
       "       298, 300, 300, 300, 295, 300, 300, 300, 300, 299, 300, 300, 300,\n",
       "       298, 300, 300, 300, 300, 298, 300, 300, 300, 296, 300, 300, 300,\n",
       "       300, 299, 300, 300, 300, 295, 300, 300, 300, 294, 300, 300, 300,\n",
       "       300, 299, 300, 300, 300, 296, 300, 300, 300, 300, 293, 300, 300,\n",
       "       300, 295, 300, 300, 300, 300, 290, 300, 300, 300, 297, 300, 300,\n",
       "       300, 297, 300, 300, 300, 300, 298, 300, 300, 300, 297, 300, 300,\n",
       "       300, 300, 295, 300, 300, 300, 298, 300, 300, 300, 297, 300, 300,\n",
       "       300, 300, 299, 300, 300, 300, 297, 300, 300, 300, 300, 298, 300,\n",
       "       300, 300, 298, 300, 300, 300, 300, 298, 300, 300, 300, 297, 300,\n",
       "       300, 300, 296, 300, 300, 300, 300, 297, 296, 297, 297, 292, 297,\n",
       "       297, 297, 297, 296, 300, 300, 296, 295, 297, 298, 297, 297, 296,\n",
       "       300, 300, 291, 294, 299, 299, 299, 296, 292, 300, 300, 294, 283,\n",
       "       296, 296, 296, 293, 289, 299, 299, 283, 296, 297, 287, 297, 294,\n",
       "       296, 291, 299, 287, 298, 298, 299, 294, 295, 289, 297, 296, 282,\n",
       "       294, 298, 300, 296, 294, 297, 297, 297, 286, 291, 299, 299, 299,\n",
       "       288, 299, 299, 299, 285, 290, 298, 298, 285, 295, 295, 295, 295,\n",
       "       287, 296, 300, 290, 299, 300, 300, 294, 297, 294, 297, 297, 297,\n",
       "       288, 300, 300, 290, 300, 298, 299, 288, 298, 293, 300, 296, 297,\n",
       "       295, 297, 297, 297, 292, 300, 300, 288, 300, 297, 300, 300, 300,\n",
       "       300, 298, 300, 300, 300, 292, 300, 300, 300, 296, 300, 300, 300,\n",
       "       300, 291, 300, 300, 300, 298, 300, 300, 300, 300, 299, 300, 300,\n",
       "       300, 299, 300, 300, 300, 300, 295, 300, 300, 300, 298, 300, 300,\n",
       "       300, 293, 300, 300, 300, 300, 296, 300, 300, 300, 299, 300, 300,\n",
       "       300, 300, 300, 300, 300, 300, 298, 300, 300, 300, 300, 296, 300,\n",
       "       300, 300, 297, 300, 300, 300, 292, 300, 300, 300, 300, 297, 300,\n",
       "       300, 300, 296, 300, 300, 300, 300, 297, 300, 300, 300, 298, 300,\n",
       "       300, 300, 295, 300, 300, 300, 300, 292, 300, 300, 300, 297, 300,\n",
       "       300, 300, 300, 298, 300, 300, 300, 296, 300, 300, 300, 300, 298,\n",
       "       300, 300, 300, 298, 300, 300, 300, 298, 300, 300, 300, 300, 296,\n",
       "       300, 300, 300, 298, 300, 300, 300, 300, 298, 300, 300, 300, 300,\n",
       "       300, 300, 300, 300])"
      ]
     },
     "execution_count": 28,
     "metadata": {},
     "output_type": "execute_result"
    }
   ],
   "source": [
    "# black values per row\n",
    "(arrayImage == 0).sum(axis=0)"
   ]
  },
  {
   "cell_type": "code",
   "execution_count": 29,
   "metadata": {},
   "outputs": [
    {
     "data": {
      "text/plain": [
       "array([420, 419, 419, 419, 419, 419, 419, 419, 419, 419, 419, 419, 419,\n",
       "       419, 419, 420, 419, 419, 419, 419, 419, 419, 419, 419, 419, 419,\n",
       "       419, 419, 419, 419, 419, 419, 419, 419, 419, 419, 419, 419, 419,\n",
       "       419, 419, 419, 419, 419, 419, 419, 419, 419, 419, 419, 419, 419,\n",
       "       419, 419, 419, 419, 419, 419, 419, 419, 419, 419, 419, 419, 419,\n",
       "       419, 419, 419, 419, 419, 419, 419, 419, 419, 419, 419, 419, 419,\n",
       "       419, 419, 419, 419, 419, 419, 419, 419, 419, 419, 419, 419, 419,\n",
       "       419, 419, 419, 419, 419, 419, 419, 419, 419, 419, 419, 419, 419,\n",
       "       419, 419, 419, 419, 419, 419, 419, 419, 419, 419, 419, 419, 419,\n",
       "       419, 419, 419, 419, 419, 419, 402, 412, 412, 374, 392, 393, 392,\n",
       "       386, 394, 394, 391, 373, 416, 414, 409, 419, 419, 419, 419, 416,\n",
       "       417, 417, 399, 405, 401, 408, 398, 410, 408, 408, 406, 419, 419,\n",
       "       419, 419, 419, 419, 419, 419, 419, 419, 419, 419, 419, 419, 419,\n",
       "       419, 419, 419, 419, 419, 419, 419, 419, 419, 419, 419, 419, 419,\n",
       "       419, 419, 419, 419, 419, 419, 419, 419, 419, 419, 419, 419, 419,\n",
       "       419, 419, 419, 419, 419, 419, 419, 419, 419, 419, 419, 419, 419,\n",
       "       419, 419, 419, 419, 419, 419, 419, 419, 419, 419, 419, 419, 419,\n",
       "       419, 419, 419, 419, 419, 419, 419, 419, 419, 419, 419, 419, 419,\n",
       "       419, 419, 419, 419, 419, 419, 419, 419, 419, 419, 419, 419, 419,\n",
       "       419, 419, 419, 419, 419, 419, 419, 419, 419, 419, 419, 419, 419,\n",
       "       419, 419, 419, 419, 419, 419, 419, 419, 419, 419, 419, 419, 419,\n",
       "       419, 419, 419, 419, 419, 419, 419, 419, 419, 419, 419, 419, 419,\n",
       "       419, 419, 419, 419, 419, 419, 419, 419, 419, 419, 419, 419, 419,\n",
       "       419])"
      ]
     },
     "execution_count": 29,
     "metadata": {},
     "output_type": "execute_result"
    }
   ],
   "source": [
    "# black values per column\n",
    "black_values_per_column = (arrayImage == 0).sum(axis=1)\n",
    "black_values_per_column"
   ]
  }
 ],
 "metadata": {
  "kernelspec": {
   "display_name": "Python 3",
   "language": "python",
   "name": "python3"
  },
  "language_info": {
   "codemirror_mode": {
    "name": "ipython",
    "version": 2
   },
   "file_extension": ".py",
   "mimetype": "text/x-python",
   "name": "python",
   "nbconvert_exporter": "python",
   "pygments_lexer": "ipython2",
   "version": "2.7.17"
  }
 },
 "nbformat": 4,
 "nbformat_minor": 2
}
